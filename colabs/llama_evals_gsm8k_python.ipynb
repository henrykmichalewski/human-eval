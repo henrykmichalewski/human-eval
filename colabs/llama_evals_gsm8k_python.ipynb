{
  "cells": [
    {
      "cell_type": "markdown",
      "metadata": {
        "colab_type": "text",
        "id": "view-in-github"
      },
      "source": [
        "<a href=\"https://colab.research.google.com/github/henrykmichalewski/human-eval/blob/master/LLama_evals_gsm8k_python.ipynb\" target=\"_parent\"><img src=\"https://colab.research.google.com/assets/colab-badge.svg\" alt=\"Open In Colab\"/></a>"
      ]
    },
    {
      "cell_type": "code",
      "execution_count": null,
      "metadata": {
        "id": "8XfB110qFyL-"
      },
      "outputs": [],
      "source": [
        "!git clone https://github.com/henrykmichalewski/math-evals\n",
        "!pip install -e math-evals -q"
      ]
    },
    {
      "cell_type": "markdown",
      "metadata": {
        "id": "XUI6RP5buCGg"
      },
      "source": [
        "## The above cell clones the unlocked variant of the OpenAI HumanEval repo.\n",
        "\n",
        "Unlocking means that the correctness code is actually executing completions. The repo contains some helper code to simplify gsm8k_python evaluations. You need to reset the runtime before moving forward."
      ]
    },
    {
      "cell_type": "markdown",
      "metadata": {
        "id": "jJH11qRe9Ax5"
      },
      "source": [
        "## Loading gsm8k"
      ]
    },
    {
      "cell_type": "code",
      "execution_count": null,
      "metadata": {
        "id": "PCe3l7wJu6ZI"
      },
      "outputs": [],
      "source": [
        "!pip install datasets -q"
      ]
    },
    {
      "cell_type": "code",
      "execution_count": null,
      "metadata": {
        "id": "9hfa5K9X8r0-"
      },
      "outputs": [],
      "source": [
        "from datasets import load_dataset"
      ]
    },
    {
      "cell_type": "code",
      "execution_count": null,
      "metadata": {
        "id": "DD07jtLW8xi6"
      },
      "outputs": [],
      "source": [
        "gsm8k = load_dataset(\"gsm8k\", \"main\")"
      ]
    },
    {
      "cell_type": "code",
      "execution_count": null,
      "metadata": {
        "id": "QhpOyI1Q81K3"
      },
      "outputs": [],
      "source": [
        "gsm8k_train, gsm8k_test = gsm8k['train'], gsm8k['test']"
      ]
    },
    {
      "cell_type": "code",
      "execution_count": null,
      "metadata": {
        "id": "CcGTboYNF2yt"
      },
      "outputs": [],
      "source": [
        "from human_eval.execution import check_gsm8k_correctness"
      ]
    },
    {
      "cell_type": "code",
      "execution_count": null,
      "metadata": {
        "id": "AclQ1Z7jGP08"
      },
      "outputs": [],
      "source": [
        "check_gsm8k_correctness(gsm8k_test[5], \" return 63\", task_id=5)"
      ]
    },
    {
      "cell_type": "code",
      "execution_count": null,
      "metadata": {
        "id": "x8221tb_GcKb"
      },
      "outputs": [],
      "source": [
        "check_gsm8k_correctness(gsm8k_test[5], \" return 64\", task_id=5)"
      ]
    },
    {
      "cell_type": "code",
      "execution_count": null,
      "metadata": {
        "id": "EYsJAZ2DKXCl"
      },
      "outputs": [],
      "source": [
        "check_gsm8k_correctness(gsm8k_test[5], \" return 64.000001\", task_id=5)"
      ]
    },
    {
      "cell_type": "markdown",
      "metadata": {
        "id": "xbMqVsX0uZOZ"
      },
      "source": [
        "## Install standard HuggingFace dependencies"
      ]
    },
    {
      "cell_type": "code",
      "execution_count": null,
      "metadata": {
        "id": "hhaIAVIZwrxe"
      },
      "outputs": [],
      "source": [
        "!pip install git+https://github.com/huggingface/transformers.git@main accelerate"
      ]
    },
    {
      "cell_type": "code",
      "execution_count": null,
      "metadata": {
        "id": "z-r7EULUxXtC"
      },
      "outputs": [],
      "source": [
        "!pip install sentencepiece -q"
      ]
    },
    {
      "cell_type": "code",
      "execution_count": null,
      "metadata": {
        "id": "hQes5abu-MSz"
      },
      "outputs": [],
      "source": [
        "import torch"
      ]
    },
    {
      "cell_type": "code",
      "execution_count": null,
      "metadata": {
        "id": "qaDj9jr1_L7Z"
      },
      "outputs": [],
      "source": [
        "if torch.cuda.is_available():\n",
        "    device = torch.device(\"cuda\")\n",
        "else:\n",
        "    device = torch.device(\"cpu\")"
      ]
    },
    {
      "cell_type": "code",
      "execution_count": null,
      "metadata": {
        "id": "rFk_YMdk_uM9"
      },
      "outputs": [],
      "source": [
        "device"
      ]
    },
    {
      "cell_type": "markdown",
      "metadata": {
        "id": "e_f10axCu448"
      },
      "source": [
        "## Download the model"
      ]
    },
    {
      "cell_type": "code",
      "execution_count": null,
      "metadata": {
        "id": "b2jTumjg5Arb"
      },
      "outputs": [],
      "source": [
        "from transformers import AutoModelForCausalLM, AutoTokenizer, TextStreamer, LlamaTokenizer, LlamaForCausalLM\n",
        "\n",
        "# model_name = \"codellama/CodeLlama-7b-Python-hf\" - also a strong competitor\n",
        "model_name = \"codellama/CodeLlama-13b-Python-hf\"\n",
        "\n",
        "tok = LlamaTokenizer.from_pretrained(model_name)\n",
        "model = LlamaForCausalLM.from_pretrained(\n",
        "    model_name, torch_dtype=torch.float16, device_map='auto',\n",
        ")\n",
        "inputs = tok([\"An increasing sequence: one,\"], return_tensors=\"pt\")"
      ]
    },
    {
      "cell_type": "code",
      "execution_count": null,
      "metadata": {
        "id": "QdAHa7a4A5Ff"
      },
      "outputs": [],
      "source": [
        "model.eval()"
      ]
    },
    {
      "cell_type": "code",
      "execution_count": null,
      "metadata": {
        "id": "mk7oE0gNAx33"
      },
      "outputs": [],
      "source": [
        "inputs = inputs.to(model.device)\n",
        "streamer = TextStreamer(tok)\n",
        "\n",
        "output = model.generate(**inputs, streamer=streamer, max_new_tokens=20)"
      ]
    },
    {
      "cell_type": "code",
      "execution_count": null,
      "metadata": {
        "id": "UYgrklf34eZP"
      },
      "outputs": [],
      "source": [
        "output"
      ]
    },
    {
      "cell_type": "code",
      "execution_count": null,
      "metadata": {
        "id": "7Gqoi_ns5xYv"
      },
      "outputs": [],
      "source": [
        "print(tok.batch_decode(output, skip_special_tokens=True))"
      ]
    },
    {
      "cell_type": "code",
      "execution_count": null,
      "metadata": {
        "id": "YLkB7F8f56nu"
      },
      "outputs": [],
      "source": [
        "def generate_one_completion(prompt):\n",
        "    # Convert prompt to tensors\n",
        "    inputs = tok([prompt], return_tensors=\"pt\")\n",
        "\n",
        "    # Move tensors to the same device as the model\n",
        "    inputs = inputs.to(model.device)\n",
        "\n",
        "    # Generate output using the model\n",
        "    output = model.generate(**inputs, max_new_tokens=256)\n",
        "\n",
        "    # Decode the output and skip any special tokens\n",
        "    return tok.batch_decode(output, skip_special_tokens=True)[0]"
      ]
    },
    {
      "cell_type": "code",
      "execution_count": null,
      "metadata": {
        "id": "PpAaxs5M6WNu"
      },
      "outputs": [],
      "source": [
        "generate_one_completion(f\"Hey there {model_name}!\")"
      ]
    },
    {
      "cell_type": "markdown",
      "metadata": {
        "id": "mHc56CE10RUH"
      },
      "source": [
        "## Loading/Saving samples into gdrive"
      ]
    },
    {
      "cell_type": "code",
      "execution_count": null,
      "metadata": {
        "id": "482up10cQ_cL"
      },
      "outputs": [],
      "source": [
        "from google.colab import drive\n",
        "import os\n",
        "\n",
        "drive.mount('/content/gdrive/', force_remount=True)"
      ]
    },
    {
      "cell_type": "code",
      "execution_count": null,
      "metadata": {
        "id": "tk2YisgJTSkC"
      },
      "outputs": [],
      "source": [
        "path = f'/content/gdrive/My Drive/llama/{model_name}'\n",
        "os.makedirs(path, exist_ok=True)\n",
        "from human_eval.data import stream_jsonl, write_jsonl"
      ]
    },
    {
      "cell_type": "markdown",
      "metadata": {
        "id": "EGGFns126jYb"
      },
      "source": [
        "### Read jsonl"
      ]
    },
    {
      "cell_type": "code",
      "execution_count": null,
      "metadata": {
        "id": "8aBRab2o2qlR"
      },
      "outputs": [],
      "source": [
        "try:\n",
        "  samples = list(stream_jsonl(os.path.join(path, \"samples_gsm8k.jsonl\")))\n",
        "except:\n",
        "  samples = []"
      ]
    },
    {
      "cell_type": "code",
      "execution_count": null,
      "metadata": {
        "id": "EbCVJ76Fb4AK"
      },
      "outputs": [],
      "source": [
        "len(samples)"
      ]
    },
    {
      "cell_type": "markdown",
      "metadata": {
        "id": "sWbKV3tC7pN3"
      },
      "source": [
        "## Full loop"
      ]
    },
    {
      "cell_type": "code",
      "execution_count": null,
      "metadata": {
        "id": "rUsu9zF7vlPc"
      },
      "outputs": [],
      "source": [
        "from data import gsm8k_python_prompt"
      ]
    },
    {
      "cell_type": "code",
      "execution_count": null,
      "metadata": {
        "id": "4SnHfNaq5pyJ"
      },
      "outputs": [],
      "source": [
        "%%time\n",
        "all_correct = 0\n",
        "for task_id, problem in enumerate(gsm8k_test):\n",
        "\n",
        "    # Check if task_id is less than samples length\n",
        "    if task_id < len(samples):\n",
        "        correctness = check_gsm8k_correctness(problem, samples[task_id]['completion'], task_id=task_id)\n",
        "        correct = correctness['passed']\n",
        "        all_correct += correct\n",
        "        continue\n",
        "\n",
        "    # Print Task ID\n",
        "    print(f\"task_id {task_id}\")\n",
        "\n",
        "    # Formulate and print the full prompt\n",
        "    full_prompt = (gsm8k_python_prompt.PYTHON_PROMPT + '\\n' +\n",
        "                  gsm8k_python_prompt.PYTHON_TEMPLATE.format(question=problem['question']))\n",
        "    completion = generate_one_completion(full_prompt)\n",
        "    completion = completion[len(full_prompt):].split('\\n\\n')[0]\n",
        "    print(completion)\n",
        "\n",
        "    # New lines for visibility\n",
        "    print(\"\\n\")\n",
        "    print(problem['answer'])\n",
        "\n",
        "    # Check for correctness of the problem solved\n",
        "    correctness = check_gsm8k_correctness(problem, completion, task_id=task_id)\n",
        "    correct = correctness['passed']\n",
        "    all_correct += correct\n",
        "\n",
        "    # Print out the correctness\n",
        "    print(f\"Correctnes: {correct}\\nAll correct: {all_correct}\")\n",
        "    print(\"=\"*40)\n",
        "\n",
        "    # Append the task results to the list and check if need to write to JSON file\n",
        "    samples.append(dict(task_id=task_id, completion=completion))\n",
        "    if task_id % 100 == 0 and task_id:\n",
        "        write_jsonl(os.path.join(path, \"samples_gsm8k.jsonl\"), samples)\n",
        "\n",
        "# Write all samples to JSONL file at the end\n",
        "write_jsonl(os.path.join(path, \"samples_gsm8k.jsonl\"), samples)\n"
      ]
    },
    {
      "cell_type": "markdown",
      "metadata": {
        "id": "ILUoZmKp6nAz"
      },
      "source": [
        "### Write jsonl"
      ]
    },
    {
      "cell_type": "code",
      "execution_count": null,
      "metadata": {
        "id": "lA6qRPr6TQGC"
      },
      "outputs": [],
      "source": [
        "write_jsonl(os.path.join(path, \"samples_gsm8k.jsonl\"), samples)"
      ]
    }
  ],
  "metadata": {
    "accelerator": "GPU",
    "colab": {
      "gpuType": "A100",
      "include_colab_link": true,
      "machine_shape": "hm",
      "private_outputs": true,
      "provenance": [],
      "toc_visible": true
    },
    "kernelspec": {
      "display_name": "Python 3",
      "name": "python3"
    },
    "language_info": {
      "name": "python"
    }
  },
  "nbformat": 4,
  "nbformat_minor": 0
}
